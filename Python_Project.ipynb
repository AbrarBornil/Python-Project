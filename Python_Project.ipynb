{
  "cells": [
    {
      "cell_type": "markdown",
      "id": "ca9677e2",
      "metadata": {
        "id": "ca9677e2"
      },
      "source": [
        "# Import library function"
      ]
    },
    {
      "cell_type": "code",
      "execution_count": null,
      "id": "edad454c",
      "metadata": {
        "id": "edad454c"
      },
      "outputs": [],
      "source": [
        "import pandas as pd\n",
        "import numpy as np\n",
        "import matplotlib.pyplot as plt\n",
        "import seaborn as sns"
      ]
    },
    {
      "cell_type": "markdown",
      "id": "ff06767f",
      "metadata": {
        "id": "ff06767f"
      },
      "source": [
        "# Import dataset from folder"
      ]
    },
    {
      "cell_type": "code",
      "execution_count": null,
      "id": "4b1f66fb",
      "metadata": {
        "id": "4b1f66fb",
        "outputId": "354e00c4-09e1-45b9-9012-728b05007979"
      },
      "outputs": [
        {
          "data": {
            "text/html": [
              "<div>\n",
              "<style scoped>\n",
              "    .dataframe tbody tr th:only-of-type {\n",
              "        vertical-align: middle;\n",
              "    }\n",
              "\n",
              "    .dataframe tbody tr th {\n",
              "        vertical-align: top;\n",
              "    }\n",
              "\n",
              "    .dataframe thead th {\n",
              "        text-align: right;\n",
              "    }\n",
              "</style>\n",
              "<table border=\"1\" class=\"dataframe\">\n",
              "  <thead>\n",
              "    <tr style=\"text-align: right;\">\n",
              "      <th></th>\n",
              "      <th>Date</th>\n",
              "      <th>Time (Local)</th>\n",
              "      <th>Eyeballs</th>\n",
              "      <th>Zeroes</th>\n",
              "      <th>Completed Trips</th>\n",
              "      <th>Requests</th>\n",
              "      <th>Unique Drivers</th>\n",
              "    </tr>\n",
              "  </thead>\n",
              "  <tbody>\n",
              "    <tr>\n",
              "      <th>0</th>\n",
              "      <td>2012-09-10</td>\n",
              "      <td>7</td>\n",
              "      <td>5</td>\n",
              "      <td>0</td>\n",
              "      <td>2</td>\n",
              "      <td>2</td>\n",
              "      <td>9</td>\n",
              "    </tr>\n",
              "    <tr>\n",
              "      <th>1</th>\n",
              "      <td>NaT</td>\n",
              "      <td>8</td>\n",
              "      <td>6</td>\n",
              "      <td>0</td>\n",
              "      <td>2</td>\n",
              "      <td>2</td>\n",
              "      <td>14</td>\n",
              "    </tr>\n",
              "    <tr>\n",
              "      <th>2</th>\n",
              "      <td>NaT</td>\n",
              "      <td>9</td>\n",
              "      <td>8</td>\n",
              "      <td>3</td>\n",
              "      <td>0</td>\n",
              "      <td>0</td>\n",
              "      <td>14</td>\n",
              "    </tr>\n",
              "    <tr>\n",
              "      <th>3</th>\n",
              "      <td>NaT</td>\n",
              "      <td>10</td>\n",
              "      <td>9</td>\n",
              "      <td>2</td>\n",
              "      <td>0</td>\n",
              "      <td>1</td>\n",
              "      <td>14</td>\n",
              "    </tr>\n",
              "    <tr>\n",
              "      <th>4</th>\n",
              "      <td>NaT</td>\n",
              "      <td>11</td>\n",
              "      <td>11</td>\n",
              "      <td>1</td>\n",
              "      <td>4</td>\n",
              "      <td>4</td>\n",
              "      <td>11</td>\n",
              "    </tr>\n",
              "    <tr>\n",
              "      <th>...</th>\n",
              "      <td>...</td>\n",
              "      <td>...</td>\n",
              "      <td>...</td>\n",
              "      <td>...</td>\n",
              "      <td>...</td>\n",
              "      <td>...</td>\n",
              "      <td>...</td>\n",
              "    </tr>\n",
              "    <tr>\n",
              "      <th>331</th>\n",
              "      <td>NaT</td>\n",
              "      <td>2</td>\n",
              "      <td>3</td>\n",
              "      <td>3</td>\n",
              "      <td>0</td>\n",
              "      <td>2</td>\n",
              "      <td>0</td>\n",
              "    </tr>\n",
              "    <tr>\n",
              "      <th>332</th>\n",
              "      <td>NaT</td>\n",
              "      <td>3</td>\n",
              "      <td>3</td>\n",
              "      <td>3</td>\n",
              "      <td>0</td>\n",
              "      <td>1</td>\n",
              "      <td>0</td>\n",
              "    </tr>\n",
              "    <tr>\n",
              "      <th>333</th>\n",
              "      <td>NaT</td>\n",
              "      <td>4</td>\n",
              "      <td>1</td>\n",
              "      <td>1</td>\n",
              "      <td>0</td>\n",
              "      <td>0</td>\n",
              "      <td>0</td>\n",
              "    </tr>\n",
              "    <tr>\n",
              "      <th>334</th>\n",
              "      <td>NaT</td>\n",
              "      <td>5</td>\n",
              "      <td>4</td>\n",
              "      <td>2</td>\n",
              "      <td>1</td>\n",
              "      <td>1</td>\n",
              "      <td>3</td>\n",
              "    </tr>\n",
              "    <tr>\n",
              "      <th>335</th>\n",
              "      <td>NaT</td>\n",
              "      <td>6</td>\n",
              "      <td>9</td>\n",
              "      <td>1</td>\n",
              "      <td>2</td>\n",
              "      <td>2</td>\n",
              "      <td>7</td>\n",
              "    </tr>\n",
              "  </tbody>\n",
              "</table>\n",
              "<p>336 rows × 7 columns</p>\n",
              "</div>"
            ],
            "text/plain": [
              "          Date  Time (Local)  Eyeballs  Zeroes  Completed Trips  Requests  \\\n",
              "0   2012-09-10             7         5       0                2         2   \n",
              "1          NaT             8         6       0                2         2   \n",
              "2          NaT             9         8       3                0         0   \n",
              "3          NaT            10         9       2                0         1   \n",
              "4          NaT            11        11       1                4         4   \n",
              "..         ...           ...       ...     ...              ...       ...   \n",
              "331        NaT             2         3       3                0         2   \n",
              "332        NaT             3         3       3                0         1   \n",
              "333        NaT             4         1       1                0         0   \n",
              "334        NaT             5         4       2                1         1   \n",
              "335        NaT             6         9       1                2         2   \n",
              "\n",
              "     Unique Drivers  \n",
              "0                 9  \n",
              "1                14  \n",
              "2                14  \n",
              "3                14  \n",
              "4                11  \n",
              "..              ...  \n",
              "331               0  \n",
              "332               0  \n",
              "333               0  \n",
              "334               3  \n",
              "335               7  \n",
              "\n",
              "[336 rows x 7 columns]"
            ]
          },
          "execution_count": 7,
          "metadata": {},
          "output_type": "execute_result"
        }
      ],
      "source": [
        "df = pd.read_excel(\"E:\\Assignment\\Assignment_5\\dataset_1.xlsx\")\n",
        "df"
      ]
    },
    {
      "cell_type": "code",
      "execution_count": null,
      "id": "1f402e08",
      "metadata": {
        "id": "1f402e08",
        "outputId": "fe816588-2f49-4aeb-bf17-fd7330e057aa"
      },
      "outputs": [
        {
          "data": {
            "text/plain": [
              "Date               321\n",
              "Time (Local)         0\n",
              "Eyeballs             0\n",
              "Zeroes               0\n",
              "Completed Trips      0\n",
              "Requests             0\n",
              "Unique Drivers       0\n",
              "dtype: int64"
            ]
          },
          "execution_count": 8,
          "metadata": {},
          "output_type": "execute_result"
        }
      ],
      "source": [
        "df.isnull().sum()"
      ]
    },
    {
      "cell_type": "code",
      "execution_count": null,
      "id": "fd698d42",
      "metadata": {
        "id": "fd698d42",
        "outputId": "72466581-0097-40d9-e07d-62610df9dc73"
      },
      "outputs": [
        {
          "name": "stdout",
          "output_type": "stream",
          "text": [
            "<class 'pandas.core.frame.DataFrame'>\n",
            "RangeIndex: 336 entries, 0 to 335\n",
            "Data columns (total 7 columns):\n",
            " #   Column           Non-Null Count  Dtype         \n",
            "---  ------           --------------  -----         \n",
            " 0   Date             15 non-null     datetime64[ns]\n",
            " 1   Time (Local)     336 non-null    int64         \n",
            " 2   Eyeballs         336 non-null    int64         \n",
            " 3   Zeroes           336 non-null    int64         \n",
            " 4   Completed Trips  336 non-null    int64         \n",
            " 5   Requests         336 non-null    int64         \n",
            " 6   Unique Drivers   336 non-null    int64         \n",
            "dtypes: datetime64[ns](1), int64(6)\n",
            "memory usage: 18.5 KB\n"
          ]
        }
      ],
      "source": [
        "df.info()"
      ]
    },
    {
      "cell_type": "code",
      "execution_count": null,
      "id": "6277956a",
      "metadata": {
        "id": "6277956a",
        "outputId": "42af30be-1342-4ed5-f59f-9ad5d32f4daa"
      },
      "outputs": [
        {
          "data": {
            "text/plain": [
              "Index(['Date', 'Time (Local)', 'Eyeballs', 'Zeroes', 'Completed Trips',\n",
              "       'Requests', 'Unique Drivers'],\n",
              "      dtype='object')"
            ]
          },
          "execution_count": 10,
          "metadata": {},
          "output_type": "execute_result"
        }
      ],
      "source": [
        "df.columns"
      ]
    },
    {
      "cell_type": "markdown",
      "id": "7dcc0cbc",
      "metadata": {
        "id": "7dcc0cbc"
      },
      "source": [
        "#  Data cleaning and preprocessing"
      ]
    },
    {
      "cell_type": "code",
      "execution_count": null,
      "id": "60f74a30",
      "metadata": {
        "id": "60f74a30",
        "outputId": "207c4756-fc55-4130-f121-313c849b331e"
      },
      "outputs": [
        {
          "data": {
            "text/html": [
              "<div>\n",
              "<style scoped>\n",
              "    .dataframe tbody tr th:only-of-type {\n",
              "        vertical-align: middle;\n",
              "    }\n",
              "\n",
              "    .dataframe tbody tr th {\n",
              "        vertical-align: top;\n",
              "    }\n",
              "\n",
              "    .dataframe thead th {\n",
              "        text-align: right;\n",
              "    }\n",
              "</style>\n",
              "<table border=\"1\" class=\"dataframe\">\n",
              "  <thead>\n",
              "    <tr style=\"text-align: right;\">\n",
              "      <th></th>\n",
              "      <th>Date</th>\n",
              "      <th>Time (Local)</th>\n",
              "      <th>Eyeballs</th>\n",
              "      <th>Zeroes</th>\n",
              "      <th>Completed Trips</th>\n",
              "      <th>Requests</th>\n",
              "      <th>Unique Drivers</th>\n",
              "    </tr>\n",
              "  </thead>\n",
              "  <tbody>\n",
              "    <tr>\n",
              "      <th>0</th>\n",
              "      <td>2012-09-10</td>\n",
              "      <td>7</td>\n",
              "      <td>5</td>\n",
              "      <td>0</td>\n",
              "      <td>2</td>\n",
              "      <td>2</td>\n",
              "      <td>9</td>\n",
              "    </tr>\n",
              "    <tr>\n",
              "      <th>1</th>\n",
              "      <td>2012-09-10</td>\n",
              "      <td>8</td>\n",
              "      <td>6</td>\n",
              "      <td>0</td>\n",
              "      <td>2</td>\n",
              "      <td>2</td>\n",
              "      <td>14</td>\n",
              "    </tr>\n",
              "    <tr>\n",
              "      <th>2</th>\n",
              "      <td>2012-09-10</td>\n",
              "      <td>9</td>\n",
              "      <td>8</td>\n",
              "      <td>3</td>\n",
              "      <td>0</td>\n",
              "      <td>0</td>\n",
              "      <td>14</td>\n",
              "    </tr>\n",
              "    <tr>\n",
              "      <th>3</th>\n",
              "      <td>2012-09-10</td>\n",
              "      <td>10</td>\n",
              "      <td>9</td>\n",
              "      <td>2</td>\n",
              "      <td>0</td>\n",
              "      <td>1</td>\n",
              "      <td>14</td>\n",
              "    </tr>\n",
              "    <tr>\n",
              "      <th>4</th>\n",
              "      <td>2012-09-10</td>\n",
              "      <td>11</td>\n",
              "      <td>11</td>\n",
              "      <td>1</td>\n",
              "      <td>4</td>\n",
              "      <td>4</td>\n",
              "      <td>11</td>\n",
              "    </tr>\n",
              "    <tr>\n",
              "      <th>...</th>\n",
              "      <td>...</td>\n",
              "      <td>...</td>\n",
              "      <td>...</td>\n",
              "      <td>...</td>\n",
              "      <td>...</td>\n",
              "      <td>...</td>\n",
              "      <td>...</td>\n",
              "    </tr>\n",
              "    <tr>\n",
              "      <th>331</th>\n",
              "      <td>2012-09-24</td>\n",
              "      <td>2</td>\n",
              "      <td>3</td>\n",
              "      <td>3</td>\n",
              "      <td>0</td>\n",
              "      <td>2</td>\n",
              "      <td>0</td>\n",
              "    </tr>\n",
              "    <tr>\n",
              "      <th>332</th>\n",
              "      <td>2012-09-24</td>\n",
              "      <td>3</td>\n",
              "      <td>3</td>\n",
              "      <td>3</td>\n",
              "      <td>0</td>\n",
              "      <td>1</td>\n",
              "      <td>0</td>\n",
              "    </tr>\n",
              "    <tr>\n",
              "      <th>333</th>\n",
              "      <td>2012-09-24</td>\n",
              "      <td>4</td>\n",
              "      <td>1</td>\n",
              "      <td>1</td>\n",
              "      <td>0</td>\n",
              "      <td>0</td>\n",
              "      <td>0</td>\n",
              "    </tr>\n",
              "    <tr>\n",
              "      <th>334</th>\n",
              "      <td>2012-09-24</td>\n",
              "      <td>5</td>\n",
              "      <td>4</td>\n",
              "      <td>2</td>\n",
              "      <td>1</td>\n",
              "      <td>1</td>\n",
              "      <td>3</td>\n",
              "    </tr>\n",
              "    <tr>\n",
              "      <th>335</th>\n",
              "      <td>2012-09-24</td>\n",
              "      <td>6</td>\n",
              "      <td>9</td>\n",
              "      <td>1</td>\n",
              "      <td>2</td>\n",
              "      <td>2</td>\n",
              "      <td>7</td>\n",
              "    </tr>\n",
              "  </tbody>\n",
              "</table>\n",
              "<p>336 rows × 7 columns</p>\n",
              "</div>"
            ],
            "text/plain": [
              "          Date  Time (Local)  Eyeballs  Zeroes  Completed Trips  Requests  \\\n",
              "0   2012-09-10             7         5       0                2         2   \n",
              "1   2012-09-10             8         6       0                2         2   \n",
              "2   2012-09-10             9         8       3                0         0   \n",
              "3   2012-09-10            10         9       2                0         1   \n",
              "4   2012-09-10            11        11       1                4         4   \n",
              "..         ...           ...       ...     ...              ...       ...   \n",
              "331 2012-09-24             2         3       3                0         2   \n",
              "332 2012-09-24             3         3       3                0         1   \n",
              "333 2012-09-24             4         1       1                0         0   \n",
              "334 2012-09-24             5         4       2                1         1   \n",
              "335 2012-09-24             6         9       1                2         2   \n",
              "\n",
              "     Unique Drivers  \n",
              "0                 9  \n",
              "1                14  \n",
              "2                14  \n",
              "3                14  \n",
              "4                11  \n",
              "..              ...  \n",
              "331               0  \n",
              "332               0  \n",
              "333               0  \n",
              "334               3  \n",
              "335               7  \n",
              "\n",
              "[336 rows x 7 columns]"
            ]
          },
          "execution_count": 12,
          "metadata": {},
          "output_type": "execute_result"
        }
      ],
      "source": [
        "df['Date'].fillna(method='ffill', inplace=True)\n",
        "df"
      ]
    },
    {
      "cell_type": "code",
      "execution_count": null,
      "id": "cfe4ed08",
      "metadata": {
        "id": "cfe4ed08"
      },
      "outputs": [],
      "source": [
        "df = pd.DataFrame(df)"
      ]
    },
    {
      "cell_type": "code",
      "execution_count": null,
      "id": "ac40251f",
      "metadata": {
        "id": "ac40251f",
        "outputId": "4d651fd1-6738-49b7-b0af-b73c9dc10964"
      },
      "outputs": [
        {
          "data": {
            "text/html": [
              "<div>\n",
              "<style scoped>\n",
              "    .dataframe tbody tr th:only-of-type {\n",
              "        vertical-align: middle;\n",
              "    }\n",
              "\n",
              "    .dataframe tbody tr th {\n",
              "        vertical-align: top;\n",
              "    }\n",
              "\n",
              "    .dataframe thead th {\n",
              "        text-align: right;\n",
              "    }\n",
              "</style>\n",
              "<table border=\"1\" class=\"dataframe\">\n",
              "  <thead>\n",
              "    <tr style=\"text-align: right;\">\n",
              "      <th></th>\n",
              "      <th>Date</th>\n",
              "      <th>Time (Local)</th>\n",
              "      <th>Eyeballs</th>\n",
              "      <th>Zeroes</th>\n",
              "      <th>Completed Trips</th>\n",
              "      <th>Requests</th>\n",
              "      <th>Unique Drivers</th>\n",
              "      <th>DateTime</th>\n",
              "    </tr>\n",
              "  </thead>\n",
              "  <tbody>\n",
              "    <tr>\n",
              "      <th>0</th>\n",
              "      <td>2012-09-10</td>\n",
              "      <td>7</td>\n",
              "      <td>5</td>\n",
              "      <td>0</td>\n",
              "      <td>2</td>\n",
              "      <td>2</td>\n",
              "      <td>9</td>\n",
              "      <td>2012-09-10 07:00:00</td>\n",
              "    </tr>\n",
              "    <tr>\n",
              "      <th>1</th>\n",
              "      <td>2012-09-10</td>\n",
              "      <td>8</td>\n",
              "      <td>6</td>\n",
              "      <td>0</td>\n",
              "      <td>2</td>\n",
              "      <td>2</td>\n",
              "      <td>14</td>\n",
              "      <td>2012-09-10 08:00:00</td>\n",
              "    </tr>\n",
              "    <tr>\n",
              "      <th>2</th>\n",
              "      <td>2012-09-10</td>\n",
              "      <td>9</td>\n",
              "      <td>8</td>\n",
              "      <td>3</td>\n",
              "      <td>0</td>\n",
              "      <td>0</td>\n",
              "      <td>14</td>\n",
              "      <td>2012-09-10 09:00:00</td>\n",
              "    </tr>\n",
              "    <tr>\n",
              "      <th>3</th>\n",
              "      <td>2012-09-10</td>\n",
              "      <td>10</td>\n",
              "      <td>9</td>\n",
              "      <td>2</td>\n",
              "      <td>0</td>\n",
              "      <td>1</td>\n",
              "      <td>14</td>\n",
              "      <td>2012-09-10 10:00:00</td>\n",
              "    </tr>\n",
              "    <tr>\n",
              "      <th>4</th>\n",
              "      <td>2012-09-10</td>\n",
              "      <td>11</td>\n",
              "      <td>11</td>\n",
              "      <td>1</td>\n",
              "      <td>4</td>\n",
              "      <td>4</td>\n",
              "      <td>11</td>\n",
              "      <td>2012-09-10 11:00:00</td>\n",
              "    </tr>\n",
              "    <tr>\n",
              "      <th>...</th>\n",
              "      <td>...</td>\n",
              "      <td>...</td>\n",
              "      <td>...</td>\n",
              "      <td>...</td>\n",
              "      <td>...</td>\n",
              "      <td>...</td>\n",
              "      <td>...</td>\n",
              "      <td>...</td>\n",
              "    </tr>\n",
              "    <tr>\n",
              "      <th>331</th>\n",
              "      <td>2012-09-24</td>\n",
              "      <td>2</td>\n",
              "      <td>3</td>\n",
              "      <td>3</td>\n",
              "      <td>0</td>\n",
              "      <td>2</td>\n",
              "      <td>0</td>\n",
              "      <td>2012-09-24 02:00:00</td>\n",
              "    </tr>\n",
              "    <tr>\n",
              "      <th>332</th>\n",
              "      <td>2012-09-24</td>\n",
              "      <td>3</td>\n",
              "      <td>3</td>\n",
              "      <td>3</td>\n",
              "      <td>0</td>\n",
              "      <td>1</td>\n",
              "      <td>0</td>\n",
              "      <td>2012-09-24 03:00:00</td>\n",
              "    </tr>\n",
              "    <tr>\n",
              "      <th>333</th>\n",
              "      <td>2012-09-24</td>\n",
              "      <td>4</td>\n",
              "      <td>1</td>\n",
              "      <td>1</td>\n",
              "      <td>0</td>\n",
              "      <td>0</td>\n",
              "      <td>0</td>\n",
              "      <td>2012-09-24 04:00:00</td>\n",
              "    </tr>\n",
              "    <tr>\n",
              "      <th>334</th>\n",
              "      <td>2012-09-24</td>\n",
              "      <td>5</td>\n",
              "      <td>4</td>\n",
              "      <td>2</td>\n",
              "      <td>1</td>\n",
              "      <td>1</td>\n",
              "      <td>3</td>\n",
              "      <td>2012-09-24 05:00:00</td>\n",
              "    </tr>\n",
              "    <tr>\n",
              "      <th>335</th>\n",
              "      <td>2012-09-24</td>\n",
              "      <td>6</td>\n",
              "      <td>9</td>\n",
              "      <td>1</td>\n",
              "      <td>2</td>\n",
              "      <td>2</td>\n",
              "      <td>7</td>\n",
              "      <td>2012-09-24 06:00:00</td>\n",
              "    </tr>\n",
              "  </tbody>\n",
              "</table>\n",
              "<p>336 rows × 8 columns</p>\n",
              "</div>"
            ],
            "text/plain": [
              "          Date  Time (Local)  Eyeballs  Zeroes  Completed Trips  Requests  \\\n",
              "0   2012-09-10             7         5       0                2         2   \n",
              "1   2012-09-10             8         6       0                2         2   \n",
              "2   2012-09-10             9         8       3                0         0   \n",
              "3   2012-09-10            10         9       2                0         1   \n",
              "4   2012-09-10            11        11       1                4         4   \n",
              "..         ...           ...       ...     ...              ...       ...   \n",
              "331 2012-09-24             2         3       3                0         2   \n",
              "332 2012-09-24             3         3       3                0         1   \n",
              "333 2012-09-24             4         1       1                0         0   \n",
              "334 2012-09-24             5         4       2                1         1   \n",
              "335 2012-09-24             6         9       1                2         2   \n",
              "\n",
              "     Unique Drivers            DateTime  \n",
              "0                 9 2012-09-10 07:00:00  \n",
              "1                14 2012-09-10 08:00:00  \n",
              "2                14 2012-09-10 09:00:00  \n",
              "3                14 2012-09-10 10:00:00  \n",
              "4                11 2012-09-10 11:00:00  \n",
              "..              ...                 ...  \n",
              "331               0 2012-09-24 02:00:00  \n",
              "332               0 2012-09-24 03:00:00  \n",
              "333               0 2012-09-24 04:00:00  \n",
              "334               3 2012-09-24 05:00:00  \n",
              "335               7 2012-09-24 06:00:00  \n",
              "\n",
              "[336 rows x 8 columns]"
            ]
          },
          "execution_count": 14,
          "metadata": {},
          "output_type": "execute_result"
        }
      ],
      "source": [
        "df['DateTime'] = pd.to_datetime(df['Date'].astype(str) + ' ' + df['Time (Local)'].astype(str) + ':00')\n",
        "df"
      ]
    },
    {
      "cell_type": "code",
      "execution_count": null,
      "id": "65a836c4",
      "metadata": {
        "id": "65a836c4",
        "outputId": "cb5346ab-d0d9-4309-ff33-b0f6b8290ce9"
      },
      "outputs": [
        {
          "data": {
            "text/html": [
              "<div>\n",
              "<style scoped>\n",
              "    .dataframe tbody tr th:only-of-type {\n",
              "        vertical-align: middle;\n",
              "    }\n",
              "\n",
              "    .dataframe tbody tr th {\n",
              "        vertical-align: top;\n",
              "    }\n",
              "\n",
              "    .dataframe thead th {\n",
              "        text-align: right;\n",
              "    }\n",
              "</style>\n",
              "<table border=\"1\" class=\"dataframe\">\n",
              "  <thead>\n",
              "    <tr style=\"text-align: right;\">\n",
              "      <th></th>\n",
              "      <th>Eyeballs</th>\n",
              "      <th>Zeroes</th>\n",
              "      <th>Completed Trips</th>\n",
              "      <th>Requests</th>\n",
              "      <th>Unique Drivers</th>\n",
              "      <th>DateTime</th>\n",
              "    </tr>\n",
              "  </thead>\n",
              "  <tbody>\n",
              "    <tr>\n",
              "      <th>0</th>\n",
              "      <td>5</td>\n",
              "      <td>0</td>\n",
              "      <td>2</td>\n",
              "      <td>2</td>\n",
              "      <td>9</td>\n",
              "      <td>2012-09-10 07:00:00</td>\n",
              "    </tr>\n",
              "    <tr>\n",
              "      <th>1</th>\n",
              "      <td>6</td>\n",
              "      <td>0</td>\n",
              "      <td>2</td>\n",
              "      <td>2</td>\n",
              "      <td>14</td>\n",
              "      <td>2012-09-10 08:00:00</td>\n",
              "    </tr>\n",
              "    <tr>\n",
              "      <th>2</th>\n",
              "      <td>8</td>\n",
              "      <td>3</td>\n",
              "      <td>0</td>\n",
              "      <td>0</td>\n",
              "      <td>14</td>\n",
              "      <td>2012-09-10 09:00:00</td>\n",
              "    </tr>\n",
              "    <tr>\n",
              "      <th>3</th>\n",
              "      <td>9</td>\n",
              "      <td>2</td>\n",
              "      <td>0</td>\n",
              "      <td>1</td>\n",
              "      <td>14</td>\n",
              "      <td>2012-09-10 10:00:00</td>\n",
              "    </tr>\n",
              "    <tr>\n",
              "      <th>4</th>\n",
              "      <td>11</td>\n",
              "      <td>1</td>\n",
              "      <td>4</td>\n",
              "      <td>4</td>\n",
              "      <td>11</td>\n",
              "      <td>2012-09-10 11:00:00</td>\n",
              "    </tr>\n",
              "    <tr>\n",
              "      <th>...</th>\n",
              "      <td>...</td>\n",
              "      <td>...</td>\n",
              "      <td>...</td>\n",
              "      <td>...</td>\n",
              "      <td>...</td>\n",
              "      <td>...</td>\n",
              "    </tr>\n",
              "    <tr>\n",
              "      <th>331</th>\n",
              "      <td>3</td>\n",
              "      <td>3</td>\n",
              "      <td>0</td>\n",
              "      <td>2</td>\n",
              "      <td>0</td>\n",
              "      <td>2012-09-24 02:00:00</td>\n",
              "    </tr>\n",
              "    <tr>\n",
              "      <th>332</th>\n",
              "      <td>3</td>\n",
              "      <td>3</td>\n",
              "      <td>0</td>\n",
              "      <td>1</td>\n",
              "      <td>0</td>\n",
              "      <td>2012-09-24 03:00:00</td>\n",
              "    </tr>\n",
              "    <tr>\n",
              "      <th>333</th>\n",
              "      <td>1</td>\n",
              "      <td>1</td>\n",
              "      <td>0</td>\n",
              "      <td>0</td>\n",
              "      <td>0</td>\n",
              "      <td>2012-09-24 04:00:00</td>\n",
              "    </tr>\n",
              "    <tr>\n",
              "      <th>334</th>\n",
              "      <td>4</td>\n",
              "      <td>2</td>\n",
              "      <td>1</td>\n",
              "      <td>1</td>\n",
              "      <td>3</td>\n",
              "      <td>2012-09-24 05:00:00</td>\n",
              "    </tr>\n",
              "    <tr>\n",
              "      <th>335</th>\n",
              "      <td>9</td>\n",
              "      <td>1</td>\n",
              "      <td>2</td>\n",
              "      <td>2</td>\n",
              "      <td>7</td>\n",
              "      <td>2012-09-24 06:00:00</td>\n",
              "    </tr>\n",
              "  </tbody>\n",
              "</table>\n",
              "<p>336 rows × 6 columns</p>\n",
              "</div>"
            ],
            "text/plain": [
              "     Eyeballs  Zeroes  Completed Trips  Requests  Unique Drivers  \\\n",
              "0           5       0                2         2               9   \n",
              "1           6       0                2         2              14   \n",
              "2           8       3                0         0              14   \n",
              "3           9       2                0         1              14   \n",
              "4          11       1                4         4              11   \n",
              "..        ...     ...              ...       ...             ...   \n",
              "331         3       3                0         2               0   \n",
              "332         3       3                0         1               0   \n",
              "333         1       1                0         0               0   \n",
              "334         4       2                1         1               3   \n",
              "335         9       1                2         2               7   \n",
              "\n",
              "               DateTime  \n",
              "0   2012-09-10 07:00:00  \n",
              "1   2012-09-10 08:00:00  \n",
              "2   2012-09-10 09:00:00  \n",
              "3   2012-09-10 10:00:00  \n",
              "4   2012-09-10 11:00:00  \n",
              "..                  ...  \n",
              "331 2012-09-24 02:00:00  \n",
              "332 2012-09-24 03:00:00  \n",
              "333 2012-09-24 04:00:00  \n",
              "334 2012-09-24 05:00:00  \n",
              "335 2012-09-24 06:00:00  \n",
              "\n",
              "[336 rows x 6 columns]"
            ]
          },
          "execution_count": 15,
          "metadata": {},
          "output_type": "execute_result"
        }
      ],
      "source": [
        "df.drop(columns=['Date', 'Time (Local)'], inplace=True)\n",
        "df"
      ]
    },
    {
      "cell_type": "code",
      "execution_count": null,
      "id": "53c1ee80",
      "metadata": {
        "id": "53c1ee80",
        "outputId": "470e46a7-7c87-4519-cbd5-a1ae8579acfa"
      },
      "outputs": [
        {
          "data": {
            "text/plain": [
              "Eyeballs           0\n",
              "Zeroes             0\n",
              "Completed Trips    0\n",
              "Requests           0\n",
              "Unique Drivers     0\n",
              "DateTime           0\n",
              "dtype: int64"
            ]
          },
          "execution_count": 16,
          "metadata": {},
          "output_type": "execute_result"
        }
      ],
      "source": [
        "df.isnull().sum()"
      ]
    },
    {
      "cell_type": "markdown",
      "id": "47159753",
      "metadata": {
        "id": "47159753"
      },
      "source": [
        "# Exploratory Data Analysis (EDA)"
      ]
    },
    {
      "cell_type": "code",
      "execution_count": null,
      "id": "bcea8e7a",
      "metadata": {
        "id": "bcea8e7a",
        "outputId": "7c6cf58f-8905-47a1-c0d8-79520eca9357"
      },
      "outputs": [
        {
          "data": {
            "text/html": [
              "<div>\n",
              "<style scoped>\n",
              "    .dataframe tbody tr th:only-of-type {\n",
              "        vertical-align: middle;\n",
              "    }\n",
              "\n",
              "    .dataframe tbody tr th {\n",
              "        vertical-align: top;\n",
              "    }\n",
              "\n",
              "    .dataframe thead th {\n",
              "        text-align: right;\n",
              "    }\n",
              "</style>\n",
              "<table border=\"1\" class=\"dataframe\">\n",
              "  <thead>\n",
              "    <tr style=\"text-align: right;\">\n",
              "      <th></th>\n",
              "      <th>Eyeballs</th>\n",
              "      <th>Zeroes</th>\n",
              "      <th>Completed Trips</th>\n",
              "      <th>Requests</th>\n",
              "      <th>Unique Drivers</th>\n",
              "      <th>DateTime</th>\n",
              "    </tr>\n",
              "  </thead>\n",
              "  <tbody>\n",
              "    <tr>\n",
              "      <th>count</th>\n",
              "      <td>336.000000</td>\n",
              "      <td>336.000000</td>\n",
              "      <td>336.000000</td>\n",
              "      <td>336.000000</td>\n",
              "      <td>336.000000</td>\n",
              "      <td>336</td>\n",
              "    </tr>\n",
              "    <tr>\n",
              "      <th>mean</th>\n",
              "      <td>19.901786</td>\n",
              "      <td>4.252976</td>\n",
              "      <td>4.062500</td>\n",
              "      <td>5.529762</td>\n",
              "      <td>7.895833</td>\n",
              "      <td>2012-09-17 06:30:00</td>\n",
              "    </tr>\n",
              "    <tr>\n",
              "      <th>min</th>\n",
              "      <td>0.000000</td>\n",
              "      <td>0.000000</td>\n",
              "      <td>0.000000</td>\n",
              "      <td>0.000000</td>\n",
              "      <td>0.000000</td>\n",
              "      <td>2012-09-10 07:00:00</td>\n",
              "    </tr>\n",
              "    <tr>\n",
              "      <th>25%</th>\n",
              "      <td>9.000000</td>\n",
              "      <td>1.000000</td>\n",
              "      <td>0.000000</td>\n",
              "      <td>1.000000</td>\n",
              "      <td>3.000000</td>\n",
              "      <td>2012-09-13 18:45:00</td>\n",
              "    </tr>\n",
              "    <tr>\n",
              "      <th>50%</th>\n",
              "      <td>17.000000</td>\n",
              "      <td>3.000000</td>\n",
              "      <td>2.000000</td>\n",
              "      <td>3.000000</td>\n",
              "      <td>8.000000</td>\n",
              "      <td>2012-09-17 06:30:00</td>\n",
              "    </tr>\n",
              "    <tr>\n",
              "      <th>75%</th>\n",
              "      <td>25.000000</td>\n",
              "      <td>5.000000</td>\n",
              "      <td>5.000000</td>\n",
              "      <td>6.250000</td>\n",
              "      <td>11.000000</td>\n",
              "      <td>2012-09-20 18:15:00</td>\n",
              "    </tr>\n",
              "    <tr>\n",
              "      <th>max</th>\n",
              "      <td>99.000000</td>\n",
              "      <td>59.000000</td>\n",
              "      <td>36.000000</td>\n",
              "      <td>46.000000</td>\n",
              "      <td>30.000000</td>\n",
              "      <td>2012-09-24 06:00:00</td>\n",
              "    </tr>\n",
              "    <tr>\n",
              "      <th>std</th>\n",
              "      <td>16.902862</td>\n",
              "      <td>5.795391</td>\n",
              "      <td>5.672581</td>\n",
              "      <td>7.399416</td>\n",
              "      <td>5.884296</td>\n",
              "      <td>NaN</td>\n",
              "    </tr>\n",
              "  </tbody>\n",
              "</table>\n",
              "</div>"
            ],
            "text/plain": [
              "         Eyeballs      Zeroes  Completed Trips    Requests  Unique Drivers  \\\n",
              "count  336.000000  336.000000       336.000000  336.000000      336.000000   \n",
              "mean    19.901786    4.252976         4.062500    5.529762        7.895833   \n",
              "min      0.000000    0.000000         0.000000    0.000000        0.000000   \n",
              "25%      9.000000    1.000000         0.000000    1.000000        3.000000   \n",
              "50%     17.000000    3.000000         2.000000    3.000000        8.000000   \n",
              "75%     25.000000    5.000000         5.000000    6.250000       11.000000   \n",
              "max     99.000000   59.000000        36.000000   46.000000       30.000000   \n",
              "std     16.902862    5.795391         5.672581    7.399416        5.884296   \n",
              "\n",
              "                  DateTime  \n",
              "count                  336  \n",
              "mean   2012-09-17 06:30:00  \n",
              "min    2012-09-10 07:00:00  \n",
              "25%    2012-09-13 18:45:00  \n",
              "50%    2012-09-17 06:30:00  \n",
              "75%    2012-09-20 18:15:00  \n",
              "max    2012-09-24 06:00:00  \n",
              "std                    NaN  "
            ]
          },
          "execution_count": 17,
          "metadata": {},
          "output_type": "execute_result"
        }
      ],
      "source": [
        "df.describe()"
      ]
    },
    {
      "cell_type": "code",
      "execution_count": null,
      "id": "b9f1b4a9",
      "metadata": {
        "id": "b9f1b4a9",
        "outputId": "2fd2b650-487e-45e1-8896-1d0560f3dd82"
      },
      "outputs": [
        {
          "data": {
            "text/html": [
              "<div>\n",
              "<style scoped>\n",
              "    .dataframe tbody tr th:only-of-type {\n",
              "        vertical-align: middle;\n",
              "    }\n",
              "\n",
              "    .dataframe tbody tr th {\n",
              "        vertical-align: top;\n",
              "    }\n",
              "\n",
              "    .dataframe thead th {\n",
              "        text-align: right;\n",
              "    }\n",
              "</style>\n",
              "<table border=\"1\" class=\"dataframe\">\n",
              "  <thead>\n",
              "    <tr style=\"text-align: right;\">\n",
              "      <th></th>\n",
              "      <th>Eyeballs</th>\n",
              "      <th>Zeroes</th>\n",
              "      <th>Completed Trips</th>\n",
              "      <th>Requests</th>\n",
              "      <th>Unique Drivers</th>\n",
              "      <th>DateTime</th>\n",
              "    </tr>\n",
              "  </thead>\n",
              "  <tbody>\n",
              "    <tr>\n",
              "      <th>Eyeballs</th>\n",
              "      <td>1.000000</td>\n",
              "      <td>0.662489</td>\n",
              "      <td>0.884819</td>\n",
              "      <td>0.897362</td>\n",
              "      <td>0.789583</td>\n",
              "      <td>0.227553</td>\n",
              "    </tr>\n",
              "    <tr>\n",
              "      <th>Zeroes</th>\n",
              "      <td>0.662489</td>\n",
              "      <td>1.000000</td>\n",
              "      <td>0.578648</td>\n",
              "      <td>0.683365</td>\n",
              "      <td>0.255062</td>\n",
              "      <td>0.153112</td>\n",
              "    </tr>\n",
              "    <tr>\n",
              "      <th>Completed Trips</th>\n",
              "      <td>0.884819</td>\n",
              "      <td>0.578648</td>\n",
              "      <td>1.000000</td>\n",
              "      <td>0.969324</td>\n",
              "      <td>0.728240</td>\n",
              "      <td>0.208183</td>\n",
              "    </tr>\n",
              "    <tr>\n",
              "      <th>Requests</th>\n",
              "      <td>0.897362</td>\n",
              "      <td>0.683365</td>\n",
              "      <td>0.969324</td>\n",
              "      <td>1.000000</td>\n",
              "      <td>0.688299</td>\n",
              "      <td>0.223154</td>\n",
              "    </tr>\n",
              "    <tr>\n",
              "      <th>Unique Drivers</th>\n",
              "      <td>0.789583</td>\n",
              "      <td>0.255062</td>\n",
              "      <td>0.728240</td>\n",
              "      <td>0.688299</td>\n",
              "      <td>1.000000</td>\n",
              "      <td>0.155916</td>\n",
              "    </tr>\n",
              "    <tr>\n",
              "      <th>DateTime</th>\n",
              "      <td>0.227553</td>\n",
              "      <td>0.153112</td>\n",
              "      <td>0.208183</td>\n",
              "      <td>0.223154</td>\n",
              "      <td>0.155916</td>\n",
              "      <td>1.000000</td>\n",
              "    </tr>\n",
              "  </tbody>\n",
              "</table>\n",
              "</div>"
            ],
            "text/plain": [
              "                 Eyeballs    Zeroes  Completed Trips  Requests  \\\n",
              "Eyeballs         1.000000  0.662489         0.884819  0.897362   \n",
              "Zeroes           0.662489  1.000000         0.578648  0.683365   \n",
              "Completed Trips  0.884819  0.578648         1.000000  0.969324   \n",
              "Requests         0.897362  0.683365         0.969324  1.000000   \n",
              "Unique Drivers   0.789583  0.255062         0.728240  0.688299   \n",
              "DateTime         0.227553  0.153112         0.208183  0.223154   \n",
              "\n",
              "                 Unique Drivers  DateTime  \n",
              "Eyeballs               0.789583  0.227553  \n",
              "Zeroes                 0.255062  0.153112  \n",
              "Completed Trips        0.728240  0.208183  \n",
              "Requests               0.688299  0.223154  \n",
              "Unique Drivers         1.000000  0.155916  \n",
              "DateTime               0.155916  1.000000  "
            ]
          },
          "execution_count": 18,
          "metadata": {},
          "output_type": "execute_result"
        }
      ],
      "source": [
        "df.corr()"
      ]
    },
    {
      "cell_type": "markdown",
      "id": "d2dada92",
      "metadata": {
        "id": "d2dada92"
      },
      "source": [
        "# Visualizations"
      ]
    },
    {
      "cell_type": "code",
      "execution_count": null,
      "id": "ffd966f0",
      "metadata": {
        "id": "ffd966f0",
        "outputId": "e4c5bd24-82f1-4d30-ac58-6a970d0ca630"
      },
      "outputs": [
        {
          "data": {
            "image/png": "[encoded data removed]",
            "text/plain": [
              "<Figure size 1200x600 with 1 Axes>"
            ]
          },
          "metadata": {},
          "output_type": "display_data"
        }
      ],
      "source": [
        "plt.figure(figsize=(12, 6))\n",
        "plt.plot(df['DateTime'], df['Completed Trips'], label='Completed Trips')\n",
        "plt.title('Completed Trips Over Time')\n",
        "plt.xlabel('DateTime')\n",
        "plt.ylabel('Completed Trips')\n",
        "plt.legend()\n",
        "plt.show()"
      ]
    },
    {
      "cell_type": "code",
      "execution_count": null,
      "id": "9ef79285",
      "metadata": {
        "id": "9ef79285",
        "outputId": "b9b9cc73-16f7-4d31-d035-2676abe38990"
      },
      "outputs": [
        {
          "data": {
            "image/png": "[encoded data removed]",
            "text/plain": [
              "<Figure size 1200x600 with 1 Axes>"
            ]
          },
          "metadata": {},
          "output_type": "display_data"
        }
      ],
      "source": [
        "plt.figure(figsize=(12, 6))\n",
        "plt.scatter(df['Requests'], df['Unique Drivers'], alpha=0.5)\n",
        "plt.title('Requests vs Unique Drivers')\n",
        "plt.xlabel('Requests')\n",
        "plt.ylabel('Unique Drivers')\n",
        "plt.show()"
      ]
    },
    {
      "cell_type": "markdown",
      "id": "42d1f1a8",
      "metadata": {
        "id": "42d1f1a8"
      },
      "source": [
        "# Task 1: Which date had the most completed trips during the two-week period?"
      ]
    },
    {
      "cell_type": "code",
      "execution_count": null,
      "id": "372bc265",
      "metadata": {
        "id": "372bc265",
        "outputId": "ab0429bb-709d-4f88-e9ed-111eaff19a8b"
      },
      "outputs": [
        {
          "data": {
            "text/plain": [
              "datetime.date(2012, 9, 22)"
            ]
          },
          "execution_count": 21,
          "metadata": {},
          "output_type": "execute_result"
        }
      ],
      "source": [
        "daily_trips = df.groupby(df['DateTime'].dt.date)['Completed Trips'].sum()\n",
        "most_trips_date = daily_trips.idxmax()\n",
        "most_trips_date"
      ]
    },
    {
      "cell_type": "markdown",
      "id": "1d043ea9",
      "metadata": {
        "id": "1d043ea9"
      },
      "source": [
        "# Task 2: What was the highest number of completed trips within a 24-hour period?\n"
      ]
    },
    {
      "cell_type": "code",
      "execution_count": null,
      "id": "5246928f",
      "metadata": {
        "id": "5246928f",
        "outputId": "0ad295b1-579f-406b-b8be-d35faadefb3f"
      },
      "outputs": [
        {
          "data": {
            "text/plain": [
              "278.0"
            ]
          },
          "execution_count": 23,
          "metadata": {},
          "output_type": "execute_result"
        }
      ],
      "source": [
        "df['24h_Completed_Trips'] = df['Completed Trips'].rolling(window=24).sum()\n",
        "max_24h_trips = df['24h_Completed_Trips'].max()\n",
        "max_24h_trips"
      ]
    },
    {
      "cell_type": "markdown",
      "id": "34eb8b49",
      "metadata": {
        "id": "34eb8b49"
      },
      "source": [
        "# Task 3: Which hour of the day had the most requests during the two-week period?\n"
      ]
    },
    {
      "cell_type": "code",
      "execution_count": null,
      "id": "28fed4f7",
      "metadata": {
        "id": "28fed4f7",
        "outputId": "9a12ef29-663d-4caf-c31c-d7ac55a36dce"
      },
      "outputs": [
        {
          "data": {
            "text/plain": [
              "23"
            ]
          },
          "execution_count": 25,
          "metadata": {},
          "output_type": "execute_result"
        }
      ],
      "source": [
        "hourly_requests = df.groupby(df['DateTime'].dt.hour)['Requests'].sum()\n",
        "most_requests_hour = hourly_requests.idxmax()\n",
        "most_requests_hour"
      ]
    },
    {
      "cell_type": "markdown",
      "id": "a70aea23",
      "metadata": {
        "id": "a70aea23"
      },
      "source": [
        "# Task 4: What percentage of all zeroes during the two-week period occurred on weekends (Friday at 5 pm to Sunday at 3 am)?"
      ]
    },
    {
      "cell_type": "code",
      "execution_count": null,
      "id": "1e83a118",
      "metadata": {
        "id": "1e83a118",
        "outputId": "141ccb34-d297-44a6-dbf9-b0a39f8cc62b"
      },
      "outputs": [
        {
          "data": {
            "text/plain": [
              "44.856543037088876"
            ]
          },
          "execution_count": 27,
          "metadata": {},
          "output_type": "execute_result"
        }
      ],
      "source": [
        "df['Is_Weekend'] = ((df['DateTime'].dt.dayofweek == 4) & (df['DateTime'].dt.hour >= 17)) | \\\n",
        "                   (df['DateTime'].dt.dayofweek == 5) | \\\n",
        "                   ((df['DateTime'].dt.dayofweek == 6) & (df['DateTime'].dt.hour < 3))\n",
        "total_zeroes = df['Zeroes'].sum()\n",
        "weekend_zeroes = df[df['Is_Weekend']]['Zeroes'].sum()\n",
        "weekend_zeroes_pct = (weekend_zeroes / total_zeroes) * 100\n",
        "weekend_zeroes_pct"
      ]
    },
    {
      "cell_type": "markdown",
      "id": "5481760e",
      "metadata": {
        "id": "5481760e"
      },
      "source": [
        "# Task 5: What is the weighted average ratio of completed trips per driver during the two-week period?"
      ]
    },
    {
      "cell_type": "code",
      "execution_count": null,
      "id": "4384c297",
      "metadata": {
        "id": "4384c297",
        "outputId": "b25d89fe-2f36-4c2e-ba88-a1b16c5443f7"
      },
      "outputs": [
        {
          "data": {
            "text/plain": [
              "7.1319261213720315"
            ]
          },
          "execution_count": 29,
          "metadata": {},
          "output_type": "execute_result"
        }
      ],
      "source": [
        "weighted_trip_values = (df['Completed Trips'] * df['Unique Drivers']).sum()\n",
        "total_unique_drivers = df['Unique Drivers'].sum()\n",
        "\n",
        "weighted_avg_ratio = weighted_trip_values / total_unique_drivers if total_unique_drivers > 0 else 0\n",
        "weighted_avg_ratio"
      ]
    },
    {
      "cell_type": "markdown",
      "id": "d3186315",
      "metadata": {
        "id": "d3186315"
      },
      "source": [
        "# Task 6: When are the busiest 8 consecutive hours over the two-week period in terms of unique requests?"
      ]
    },
    {
      "cell_type": "code",
      "execution_count": null,
      "id": "f34937ab",
      "metadata": {
        "id": "f34937ab",
        "outputId": "80c5bb3c-44f9-40dc-de64-77acc5c38a32"
      },
      "outputs": [
        {
          "data": {
            "text/plain": [
              "Timestamp('2012-09-22 00:00:00')"
            ]
          },
          "execution_count": 31,
          "metadata": {},
          "output_type": "execute_result"
        }
      ],
      "source": [
        "df['8h_Unique_Requests'] = df['Requests'].rolling(window=8).sum()\n",
        "busiest_8h_start = df.loc[df['8h_Unique_Requests'].idxmax(), 'DateTime']\n",
        "busiest_8h_start"
      ]
    },
    {
      "cell_type": "markdown",
      "id": "fbc4d273",
      "metadata": {
        "id": "fbc4d273"
      },
      "source": [
        "# Task 7: True or False: Driver supply always increases when demand increases during the two-week period."
      ]
    },
    {
      "cell_type": "code",
      "execution_count": null,
      "id": "08e2a3f7",
      "metadata": {
        "id": "08e2a3f7",
        "outputId": "971fc3da-2bd2-4dfa-feca-612dd0b2dedb"
      },
      "outputs": [
        {
          "name": "stdout",
          "output_type": "stream",
          "text": [
            "True: Driver supply tends to increase when demand increases.\n"
          ]
        }
      ],
      "source": [
        "correlation = df['Requests'].corr(df['Unique Drivers'])\n",
        "if correlation > 0:\n",
        "    print(\"True: Driver supply tends to increase when demand increases.\")\n",
        "else:\n",
        "    print(\"False: Driver supply does not always increase when demand increases.\")"
      ]
    },
    {
      "cell_type": "markdown",
      "id": "8e88bc3d",
      "metadata": {
        "id": "8e88bc3d"
      },
      "source": [
        "# Task 8: In which 72-hour period is the ratio of Zeroes to Eyeballs the highest?\n",
        ""
      ]
    },
    {
      "cell_type": "code",
      "execution_count": null,
      "id": "7756257e",
      "metadata": {
        "id": "7756257e",
        "outputId": "a29a23d1-7154-4690-d5c7-9c7294475159"
      },
      "outputs": [
        {
          "data": {
            "text/plain": [
              "Timestamp('2012-09-18 04:00:00')"
            ]
          },
          "execution_count": 35,
          "metadata": {},
          "output_type": "execute_result"
        }
      ],
      "source": [
        "df['72h_Zeroes'] = df['Zeroes'].rolling(window=72).sum()\n",
        "df['72h_Eyeballs'] = df['Eyeballs'].rolling(window=72).sum()\n",
        "df['Zeroes_to_Eyeballs'] = df['72h_Zeroes'] / df['72h_Eyeballs']\n",
        "highest_ratio_start = df.loc[df['Zeroes_to_Eyeballs'].idxmax(), 'DateTime']\n",
        "highest_ratio_start"
      ]
    },
    {
      "cell_type": "markdown",
      "id": "c7844142",
      "metadata": {
        "id": "c7844142"
      },
      "source": [
        "# Task 9: If you could add 5 drivers to any single hour of every day during the two-week period, which hour should you add them to?"
      ]
    },
    {
      "cell_type": "code",
      "execution_count": null,
      "id": "74c62630",
      "metadata": {
        "id": "74c62630",
        "outputId": "71c1d1b5-b347-4bf3-d73e-99aa76fa5e72"
      },
      "outputs": [
        {
          "data": {
            "text/plain": [
              "23"
            ]
          },
          "execution_count": 37,
          "metadata": {},
          "output_type": "execute_result"
        }
      ],
      "source": [
        "df['Requests_per_Driver'] = df['Requests'] / df['Unique Drivers']\n",
        "best_hour = df.groupby(df['DateTime'].dt.hour)['Requests_per_Driver'].mean().idxmax()\n",
        "best_hour"
      ]
    },
    {
      "cell_type": "markdown",
      "id": "e9f0f906",
      "metadata": {
        "id": "e9f0f906"
      },
      "source": [
        "# Task 10: True or False: There is exactly two weeks of data in this analysis."
      ]
    },
    {
      "cell_type": "code",
      "execution_count": null,
      "id": "9edda1f0",
      "metadata": {
        "id": "9edda1f0",
        "outputId": "2562e0ed-d84b-43ba-af18-be48d801d8d4"
      },
      "outputs": [
        {
          "name": "stdout",
          "output_type": "stream",
          "text": [
            "False: The time range is {time_range}.\n"
          ]
        }
      ],
      "source": [
        "time_range = df['DateTime'].max() - df['DateTime'].min()\n",
        "if time_range == pd.Timedelta(weeks=2):\n",
        "    print(\"True: There is exactly two weeks of data.\")\n",
        "else:\n",
        "    print(\"False: The time range is {time_range}.\")"
      ]
    },
    {
      "cell_type": "markdown",
      "id": "d671505c",
      "metadata": {
        "id": "d671505c"
      },
      "source": [
        "# Task 11: Looking at the data from all two weeks, which time might make the most sense to consider a true 'end day' instead of midnight?"
      ]
    },
    {
      "cell_type": "code",
      "execution_count": null,
      "id": "c2e799d7",
      "metadata": {
        "id": "c2e799d7",
        "outputId": "9381782c-fb62-43e6-aa7d-603897b65de4"
      },
      "outputs": [
        {
          "data": {
            "text/plain": [
              "4"
            ]
          },
          "execution_count": 41,
          "metadata": {},
          "output_type": "execute_result"
        }
      ],
      "source": [
        "hourly_avg = df.groupby(df['DateTime'].dt.hour)[['Unique Drivers', 'Requests']].mean()\n",
        "end_day_hour = hourly_avg.sum(axis=1).idxmin()\n",
        "end_day_hour"
      ]
    }
  ],
  "metadata": {
    "kernelspec": {
      "display_name": "Python 3 (ipykernel)",
      "language": "python",
      "name": "python3"
    },
    "language_info": {
      "codemirror_mode": {
        "name": "ipython",
        "version": 3
      },
      "file_extension": ".py",
      "mimetype": "text/x-python",
      "name": "python",
      "nbconvert_exporter": "python",
      "pygments_lexer": "ipython3",
      "version": "3.11.5"
    },
    "colab": {
      "provenance": []
    }
  },
  "nbformat": 4,
  "nbformat_minor": 5
}